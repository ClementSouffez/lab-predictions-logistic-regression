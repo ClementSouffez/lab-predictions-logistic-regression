{
 "cells": [
  {
   "cell_type": "code",
   "execution_count": 27,
   "id": "f7ce554b",
   "metadata": {},
   "outputs": [],
   "source": [
    "#!pip install pymysql "
   ]
  },
  {
   "cell_type": "code",
   "execution_count": 28,
   "id": "486a5807",
   "metadata": {},
   "outputs": [
    {
     "name": "stdout",
     "output_type": "stream",
     "text": [
      "········\n"
     ]
    }
   ],
   "source": [
    "# prep: import modules and get pwd\n",
    "import pymysql\n",
    "from sqlalchemy import create_engine\n",
    "import pandas as pd\n",
    "import getpass  # To get the password without showing the input\n",
    "password = getpass.getpass()"
   ]
  },
  {
   "cell_type": "raw",
   "id": "d45b14c2",
   "metadata": {},
   "source": [
    "1.Create"
   ]
  },
  {
   "cell_type": "code",
   "execution_count": 30,
   "id": "16df80ed",
   "metadata": {},
   "outputs": [
    {
     "data": {
      "text/html": [
       "<div>\n",
       "<style scoped>\n",
       "    .dataframe tbody tr th:only-of-type {\n",
       "        vertical-align: middle;\n",
       "    }\n",
       "\n",
       "    .dataframe tbody tr th {\n",
       "        vertical-align: top;\n",
       "    }\n",
       "\n",
       "    .dataframe thead th {\n",
       "        text-align: right;\n",
       "    }\n",
       "</style>\n",
       "<table border=\"1\" class=\"dataframe\">\n",
       "  <thead>\n",
       "    <tr style=\"text-align: right;\">\n",
       "      <th></th>\n",
       "      <th>film_name</th>\n",
       "      <th>language</th>\n",
       "      <th>length</th>\n",
       "      <th>rating</th>\n",
       "      <th>special_features</th>\n",
       "      <th>film_category</th>\n",
       "      <th>rented</th>\n",
       "    </tr>\n",
       "  </thead>\n",
       "  <tbody>\n",
       "    <tr>\n",
       "      <th>0</th>\n",
       "      <td>WORKING MICROCOSMOS</td>\n",
       "      <td>English</td>\n",
       "      <td>74</td>\n",
       "      <td>R</td>\n",
       "      <td>Commentaries,Deleted Scenes</td>\n",
       "      <td>Travel</td>\n",
       "      <td>1</td>\n",
       "    </tr>\n",
       "    <tr>\n",
       "      <th>1</th>\n",
       "      <td>WORKER TARZAN</td>\n",
       "      <td>English</td>\n",
       "      <td>139</td>\n",
       "      <td>R</td>\n",
       "      <td>Trailers,Commentaries,Behind the Scenes</td>\n",
       "      <td>Travel</td>\n",
       "      <td>0</td>\n",
       "    </tr>\n",
       "    <tr>\n",
       "      <th>2</th>\n",
       "      <td>WOLVES DESIRE</td>\n",
       "      <td>English</td>\n",
       "      <td>55</td>\n",
       "      <td>NC-17</td>\n",
       "      <td>Behind the Scenes</td>\n",
       "      <td>Travel</td>\n",
       "      <td>1</td>\n",
       "    </tr>\n",
       "    <tr>\n",
       "      <th>3</th>\n",
       "      <td>WINDOW SIDE</td>\n",
       "      <td>English</td>\n",
       "      <td>85</td>\n",
       "      <td>R</td>\n",
       "      <td>Deleted Scenes,Behind the Scenes</td>\n",
       "      <td>Travel</td>\n",
       "      <td>1</td>\n",
       "    </tr>\n",
       "    <tr>\n",
       "      <th>4</th>\n",
       "      <td>VALENTINE VANISHING</td>\n",
       "      <td>English</td>\n",
       "      <td>48</td>\n",
       "      <td>PG-13</td>\n",
       "      <td>Trailers,Behind the Scenes</td>\n",
       "      <td>Travel</td>\n",
       "      <td>0</td>\n",
       "    </tr>\n",
       "  </tbody>\n",
       "</table>\n",
       "</div>"
      ],
      "text/plain": [
       "             film_name language  length rating  \\\n",
       "0  WORKING MICROCOSMOS  English      74      R   \n",
       "1        WORKER TARZAN  English     139      R   \n",
       "2        WOLVES DESIRE  English      55  NC-17   \n",
       "3          WINDOW SIDE  English      85      R   \n",
       "4  VALENTINE VANISHING  English      48  PG-13   \n",
       "\n",
       "                          special_features film_category  rented  \n",
       "0              Commentaries,Deleted Scenes        Travel       1  \n",
       "1  Trailers,Commentaries,Behind the Scenes        Travel       0  \n",
       "2                        Behind the Scenes        Travel       1  \n",
       "3         Deleted Scenes,Behind the Scenes        Travel       1  \n",
       "4               Trailers,Behind the Scenes        Travel       0  "
      ]
     },
     "execution_count": 30,
     "metadata": {},
     "output_type": "execute_result"
    }
   ],
   "source": [
    "# get the data\n",
    "connection_string = 'mysql+pymysql://root:' + password + '@localhost/sakila'\n",
    "engine = create_engine(connection_string)\n",
    "\n",
    "query = '''select title as film_name, l.name as language, length, rating, special_features, c.name as film_category,\n",
    "case when date_format(rental_date, '%%m-%%Y') = '06-2005'\n",
    "then 1 Else 0 End as 'rented'\n",
    "from film f\n",
    "join film_category fc\n",
    "using(film_id)\n",
    "join language l\n",
    "using(language_id) \n",
    "join category c\n",
    "using(category_id)\n",
    "join inventory i\n",
    "using(film_id)\n",
    "left join rental r\n",
    "using(inventory_id)\n",
    "group by title, l.name, length, rating, special_features, c.name;'''\n",
    "\n",
    "data = pd.read_sql_query(query, engine)\n",
    "data.head()\n"
   ]
  },
  {
   "cell_type": "code",
   "execution_count": null,
   "id": "4ffbdac6",
   "metadata": {},
   "outputs": [],
   "source": []
  },
  {
   "cell_type": "code",
   "execution_count": null,
   "id": "df8eee21",
   "metadata": {},
   "outputs": [],
   "source": []
  }
 ],
 "metadata": {
  "kernelspec": {
   "display_name": "Python 3 (ipykernel)",
   "language": "python",
   "name": "python3"
  },
  "language_info": {
   "codemirror_mode": {
    "name": "ipython",
    "version": 3
   },
   "file_extension": ".py",
   "mimetype": "text/x-python",
   "name": "python",
   "nbconvert_exporter": "python",
   "pygments_lexer": "ipython3",
   "version": "3.9.13"
  }
 },
 "nbformat": 4,
 "nbformat_minor": 5
}
